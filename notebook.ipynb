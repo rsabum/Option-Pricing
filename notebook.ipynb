{
 "cells": [
  {
   "cell_type": "markdown",
   "metadata": {},
   "source": [
    "# Theoretical Option Pricing"
   ]
  },
  {
   "cell_type": "markdown",
   "metadata": {},
   "source": [
    "# 1. Introduction"
   ]
  },
  {
   "cell_type": "markdown",
   "metadata": {},
   "source": [
    "\n",
    "In the realm of options pricing, traditional models often simplify the intricate dynamics of underlying stock movements or are limited to certain constraints.\n"
   ]
  },
  {
   "cell_type": "markdown",
   "metadata": {},
   "source": [
    "\n",
    "### Dynamic Programming\n",
    "\n",
    "In this project we approach theoretical option pricing as a dynamic programming problem in which at each time step we have information $s_t \\in \\mathcal{S}$ such as the underlying price, time till expiry, interest rates, etc. We also have a set of actions we can take at each time step $a \\in \\mathcal{A}$ such as early exercise, hedging adjustment, taking no action, etc. We also have functions defining the cost/reward of taking an action $C(s_t, a_t)$ and probabilty of transitioning from one state to another $P(s_{t + 1} ~|~ s_t, a_t)$ typically independent of $a_t$ and corresponds to price movements of the underlying. Our goal therefore is to find $V^*(s_t)$ which denotes the theoretical value of an option under the assumtion that the holder of the contract takes the most optional actions during the lifetime of the contract. By the Bellman Optimality Principle, $V^*(s_t)$ can be recursively defined as:\n",
    "\n",
    "$$\n",
    "\\begin{equation}\n",
    "V^*(s_t) = \n",
    "    \\max_{a_t \\in \\mathcal{A}} \n",
    "    \\left\\{\n",
    "        C(s_t, a_t) + \\int_{s_{t+1}} P(s_{t + 1} ~|~ s_t, a_t) V^*(s_{t + 1})  \n",
    "    \\right\\}\n",
    "\\end{equation}\n",
    "$$\n",
    "\n"
   ]
  },
  {
   "cell_type": "markdown",
   "metadata": {},
   "source": [
    "\n",
    "### Organization\n",
    "The rest of this notebook is organized as follows:\n",
    "\n",
    "- In Section 2 we will model our underlying assets price dynamics using the Bates Model.\n",
    "- In Section 3 we will describe the algorithm we will use to approximate $V^*(s_t)$.\n",
    "- In Section 4 we will provide dynamic programming formualtions for the different contracts we will be considering.\n",
    "- In Section 5 we will fit the models and visualize the results."
   ]
  },
  {
   "cell_type": "markdown",
   "metadata": {},
   "source": [
    "# 2. Bates Model"
   ]
  },
  {
   "cell_type": "markdown",
   "metadata": {},
   "source": [
    "In this project we assume the S&P 500 follows the Heston model which is a Stochastic Volatility model defined by the following stochastic differential equations:\n",
    "\n",
    "$$ \n",
    "\\begin{align}\n",
    "dS_t &= \\mu S_t ~ dt + \\sqrt{V_t} S_t ~ dW_{S,t}\n",
    "\\\\\n",
    "dV_t &= \\kappa (\\theta - V_t) ~ dt + \\sigma \\sqrt{V_t} ~ dW_{V,t}\n",
    "\\end{align}\n",
    "$$ \n",
    "\n",
    "where:\n",
    "- $S_t$ represents the stock price at time $t$,\n",
    "- $V_t$ denotes the stochastic volatility process,\n",
    "- $\\mu$ is the drift rate,\n",
    "- $\\kappa$ is the mean-reversion rate of volatility,\n",
    "- $\\theta$ is the long-term average volatility,\n",
    "- $\\sigma$ is the volatility of volatility,\n",
    "- $dW_{S,t}$ and $dW_{V,t}$ are Wiener processes for the stock price and volatility, respectively,\n"
   ]
  },
  {
   "cell_type": "markdown",
   "metadata": {},
   "source": [
    "# 3. Experiments"
   ]
  },
  {
   "cell_type": "markdown",
   "metadata": {},
   "source": [
    "## American Option"
   ]
  },
  {
   "cell_type": "markdown",
   "metadata": {},
   "source": [
    "#### Dynamic Programming Formulation\n",
    "\n",
    "Given a strike price $K$ our option's pay off after exercising at time $t$ is $\\max\\{S - K, 0\\}$. Further more since this is an American call option, we can exercise at any time $t \\ge 0$. Therefore at each time step we have the choice of exercising and recieving a payoff of $\\max\\{0, S - K\\}$ or not exercising. If we dont exercise, our underlying stock and variance processes move to new values $S_{t + dt}$ and $V_{t + dt}$ and we have a new decision to make of whether or not we should exercise. This recursive relationship can be modeled as follows:\n",
    "\n",
    "$$\n",
    "\\begin{align}\n",
    "V_0(S_t) &= \\max\\{S_t - K, 0\\} \\\\\n",
    "V_{t > 0}(S_t) &= \\max\\left\\{ \\max\\{S_t - K, 0\\}, \\mathbb{E}\\bigg[V_{t - dt}(S_{t + dt})\\bigg]\\right\\}\n",
    "\\end{align}\n",
    "$$\n",
    "\n",
    "and in the case of a put option:\n",
    "\n",
    "$$\n",
    "\\begin{align}\n",
    "V_0(S_t) &= \\max\\{K - S_t, 0\\} \\\\\n",
    "V_{t > 0}(S_t) &= \\max\\left\\{ \\max\\{K - S_t, 0\\}, \\mathbb{E}\\bigg[V_{t - dt}(S_{t + dt})\\bigg]\\right\\}\n",
    "\\end{align}\n",
    "$$\n"
   ]
  },
  {
   "cell_type": "code",
   "execution_count": null,
   "metadata": {},
   "outputs": [],
   "source": [
    "from engines import AmericanVanilla\n",
    "\n",
    "model = AmericanVanilla(\n",
    "    underlying=underlying, \n",
    "    strike=100, \n",
    "    call=True, \n",
    "    M0=100,\n",
    "    M1=100\n",
    ")"
   ]
  },
  {
   "cell_type": "code",
   "execution_count": 22,
   "metadata": {},
   "outputs": [
    {
     "name": "stdout",
     "output_type": "stream",
     "text": [
      "[[57.45074818  1.02738845 71.45590771 48.80255421 87.04682614 16.63802432\n",
      "  83.01613259 94.31942755 67.50510094 45.07845484]\n",
      " [ 0.01139361  0.04460803  0.03545758  0.07622961  0.07685106  0.09206857\n",
      "   0.02658116  0.04650445  0.05375785  0.09157377]]\n"
     ]
    }
   ],
   "source": [
    "import numpy as np\n",
    "\n",
    "np.set_printoptions(suppress=True)\n",
    "points = np.random.uniform([0, 0], [100, 0.1], size=(10, 2)).T\n",
    "print(points)\n",
    "\n",
    "# vecs = [points[:, i] for i in range(2)]\n",
    "\n",
    "# print(vecs)"
   ]
  },
  {
   "cell_type": "code",
   "execution_count": 8,
   "metadata": {},
   "outputs": [
    {
     "name": "stdout",
     "output_type": "stream",
     "text": [
      "[0. 0. 0. 0. 0. 0. 0. 0. 0. 0. 0. 0. 0. 0. 0. 0. 0. 0. 0. 0. 0. 0. 0. 0.\n",
      " 0. 0. 0. 0. 0. 0. 0. 0. 0. 0. 0. 0. 0. 0. 0. 0. 0. 0. 0. 0. 0. 0. 0. 0.\n",
      " 0. 1. 1. 1. 1. 1. 1. 1. 1. 1. 1. 1. 1. 1. 1. 1. 1. 1. 1. 1. 1. 1. 1. 1.\n",
      " 1. 1. 1. 1. 1. 1. 1. 1. 1. 1. 1. 1. 1. 1. 1. 1. 1. 1. 1. 1. 1. 1. 1. 1.\n",
      " 1. 1. 1.]\n"
     ]
    }
   ],
   "source": [
    "import numpy as np\n",
    "\n",
    "x = np.arange(start=1, stop=100)\n",
    "b = 50\n",
    "\n",
    "def crossed(X):\n",
    "    CROSSED = np.zeros(99)\n",
    "\n",
    "    CROSSED[0] = x[0]\n",
    "\n",
    "    CROSSED[0] = x[0] >= b\n",
    "    for t in range(1, 99):\n",
    "        print(t, end=\"\\r\")\n",
    "        CROSSED[t] = max(CROSSED[t - 1], x[t] >= b)\n",
    "\n",
    "    return CROSSED\n",
    "\n",
    "print(crossed(x))"
   ]
  }
 ],
 "metadata": {
  "kernelspec": {
   "display_name": "Python 3",
   "language": "python",
   "name": "python3"
  },
  "language_info": {
   "codemirror_mode": {
    "name": "ipython",
    "version": 3
   },
   "file_extension": ".py",
   "mimetype": "text/x-python",
   "name": "python",
   "nbconvert_exporter": "python",
   "pygments_lexer": "ipython3",
   "version": "3.11.9"
  }
 },
 "nbformat": 4,
 "nbformat_minor": 2
}
