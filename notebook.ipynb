{
 "cells": [
  {
   "cell_type": "markdown",
   "metadata": {},
   "source": [
    "# Theoretical Option Pricing"
   ]
  },
  {
   "cell_type": "markdown",
   "metadata": {},
   "source": [
    "# 1. Introduction"
   ]
  },
  {
   "cell_type": "markdown",
   "metadata": {},
   "source": [
    "\n",
    "In the realm of options pricing, traditional models often simplify the intricate dynamics of underlying stock movements or are limited to certain constraints.\n"
   ]
  },
  {
   "cell_type": "markdown",
   "metadata": {},
   "source": [
    "\n",
    "### Dynamic Programming\n",
    "\n",
    "In this project we approach theoretical option pricing as a dynamic programming problem in which at each time step we have information $s_t \\in \\mathcal{S}$ such as the underlying price, time till expiry, interest rates, etc. We also have a set of actions we can take at each time step $a \\in \\mathcal{A}$ such as early exercise, hedging adjustment, taking no action, etc. We also have functions defining the cost/reward of taking an action $C(s_t, a_t)$ and probabilty of transitioning from one state to another $P(s_{t + 1} ~|~ s_t, a_t)$ typically independent of $a_t$ and corresponds to price movements of the underlying. Our goal therefore is to find $V^*(s_t)$ which denotes the theoretical value of an option under the assumtion that the holder of the contract takes the most optional actions during the lifetime of the contract. By the Bellman Optimality Principle, $V^*(s_t)$ can be recursively defined as:\n",
    "\n",
    "$$\n",
    "\\begin{equation}\n",
    "V^*(s_t) = \n",
    "    \\max_{a_t \\in \\mathcal{A}} \n",
    "    \\left\\{\n",
    "        C(s_t, a_t) + \\int_{s_{t+1}} P(s_{t + 1} ~|~ s_t, a_t) V^*(s_{t + 1})  \n",
    "    \\right\\}\n",
    "\\end{equation}\n",
    "$$\n",
    "\n"
   ]
  },
  {
   "cell_type": "markdown",
   "metadata": {},
   "source": [
    "\n",
    "### Organization\n",
    "The rest of this notebook is organized as follows:\n",
    "\n",
    "- In Section 2 we will model our underlying assets price dynamics using the Bates Model.\n",
    "- In Section 3 we will describe the algorithm we will use to approximate $V^*(s_t)$.\n",
    "- In Section 4 we will provide dynamic programming formualtions for the different contracts we will be considering.\n",
    "- In Section 5 we will fit the models and visualize the results."
   ]
  },
  {
   "cell_type": "markdown",
   "metadata": {},
   "source": [
    "# 2. Bates Model"
   ]
  },
  {
   "cell_type": "markdown",
   "metadata": {},
   "source": [
    "In this project we assume the S&P 500 follows the Heston model which is a Stochastic Volatility model defined by the following stochastic differential equations:\n",
    "\n",
    "$$ \n",
    "\\begin{align}\n",
    "dS_t &= \\mu S_t ~ dt + \\sqrt{V_t} S_t ~ dW_{S,t}\n",
    "\\\\\n",
    "dV_t &= \\kappa (\\theta - V_t) ~ dt + \\sigma \\sqrt{V_t} ~ dW_{V,t}\n",
    "\\end{align}\n",
    "$$ \n",
    "\n",
    "where:\n",
    "- $S_t$ represents the stock price at time $t$,\n",
    "- $V_t$ denotes the stochastic volatility process,\n",
    "- $\\mu$ is the drift rate,\n",
    "- $\\kappa$ is the mean-reversion rate of volatility,\n",
    "- $\\theta$ is the long-term average volatility,\n",
    "- $\\sigma$ is the volatility of volatility,\n",
    "- $dW_{S,t}$ and $dW_{V,t}$ are Wiener processes for the stock price and volatility, respectively,\n"
   ]
  },
  {
   "cell_type": "markdown",
   "metadata": {},
   "source": [
    "# 3. Experiments"
   ]
  },
  {
   "cell_type": "markdown",
   "metadata": {},
   "source": [
    "## American Option"
   ]
  },
  {
   "cell_type": "markdown",
   "metadata": {},
   "source": [
    "#### Dynamic Programming Formulation\n",
    "\n",
    "Given a strike price $K$ our option's pay off after exercising at time $t$ is $\\max\\{S - K, 0\\}$. Further more since this is an American call option, we can exercise at any time $t \\ge 0$. Therefore at each time step we have the choice of exercising and recieving a payoff of $\\max\\{0, S - K\\}$ or not exercising. If we dont exercise, our underlying stock and variance processes move to new values $S_{t + dt}$ and $V_{t + dt}$ and we have a new decision to make of whether or not we should exercise. This recursive relationship can be modeled as follows:\n",
    "\n",
    "$$\n",
    "\\begin{align}\n",
    "V_0(S_t) &= \\max\\{S_t - K, 0\\} \\\\\n",
    "V_{t > 0}(S_t) &= \\max\\left\\{ \\max\\{S_t - K, 0\\}, \\mathbb{E}\\bigg[V_{t - dt}(S_{t + dt})\\bigg]\\right\\}\n",
    "\\end{align}\n",
    "$$\n",
    "\n",
    "and in the case of a put option:\n",
    "\n",
    "$$\n",
    "\\begin{align}\n",
    "V_0(S_t) &= \\max\\{K - S_t, 0\\} \\\\\n",
    "V_{t > 0}(S_t) &= \\max\\left\\{ \\max\\{K - S_t, 0\\}, \\mathbb{E}\\bigg[V_{t - dt}(S_{t + dt})\\bigg]\\right\\}\n",
    "\\end{align}\n",
    "$$\n"
   ]
  },
  {
   "cell_type": "code",
   "execution_count": null,
   "metadata": {},
   "outputs": [],
   "source": [
    "from engines import AmericanVanilla\n",
    "\n",
    "model = AmericanVanilla(\n",
    "    underlying=underlying, \n",
    "    strike=100, \n",
    "    call=True, \n",
    "    M0=100,\n",
    "    M1=100\n",
    ")"
   ]
  },
  {
   "cell_type": "code",
   "execution_count": 22,
   "metadata": {},
   "outputs": [
    {
     "name": "stdout",
     "output_type": "stream",
     "text": [
      "[[57.45074818  1.02738845 71.45590771 48.80255421 87.04682614 16.63802432\n",
      "  83.01613259 94.31942755 67.50510094 45.07845484]\n",
      " [ 0.01139361  0.04460803  0.03545758  0.07622961  0.07685106  0.09206857\n",
      "   0.02658116  0.04650445  0.05375785  0.09157377]]\n"
     ]
    }
   ],
   "source": [
    "import numpy as np\n",
    "\n",
    "np.set_printoptions(suppress=True)\n",
    "points = np.random.uniform([0, 0], [100, 0.1], size=(10, 2)).T\n",
    "print(points)\n",
    "\n",
    "# vecs = [points[:, i] for i in range(2)]\n",
    "\n",
    "# print(vecs)"
   ]
  },
  {
   "cell_type": "code",
   "execution_count": 7,
   "metadata": {},
   "outputs": [
    {
     "name": "stdout",
     "output_type": "stream",
     "text": [
      "[ 1.   1.5  2.   2.5  3.   3.5  4.   4.5  5.   5.5  6.   6.5  7.   7.5\n",
      "  8.   8.5  9.   9.5 10.  10.5 11.  11.5 12.  12.5 13.  13.5 14.  14.5\n",
      " 15.  15.5 16.  16.5 17.  17.5 18.  18.5 19.  19.5 20.  20.5 21.  21.5\n",
      " 22.  22.5 23.  23.5 24.  24.5 25.  25.5 26.  26.5 27.  27.5 28.  28.5\n",
      " 29.  29.5 30.  30.5 31.  31.5 32.  32.5 33.  33.5 34.  34.5 35.  35.5\n",
      " 36.  36.5 37.  37.5 38.  38.5 39.  39.5 40.  40.5 41.  41.5 42.  42.5\n",
      " 43.  43.5 44.  44.5 45.  45.5 46.  46.5 47.  47.5 48.  48.5 49.  49.5\n",
      " 50. ]\n",
      "[ 1.          1.41421356  1.81712059  2.21336384  2.60517108  2.99379517\n",
      "  3.38001516  3.7643506   4.14716627  4.52872869  4.90923878  5.28885199\n",
      "  5.66769118  6.04585517  6.42342475  6.8004668   7.17703736  7.55318386\n",
      "  7.92894684  8.3043612   8.67945723  9.05426137  9.42879687  9.80308428\n",
      " 10.17714183 10.55098582 10.92463083 11.29808998 11.67137514 12.04449704\n",
      " 12.41746545 12.79028928 13.16297668 13.5355351  13.90797143 14.28029199\n",
      " 14.65250261 15.02460871 15.39661529 15.76852702 16.14034824 16.51208297\n",
      " 16.88373501 17.25530787 17.62680487 17.99822911 18.3695835  18.74087079\n",
      " 19.11209355 19.48325423 19.85435511 20.22539837 20.59638607 20.96732014\n",
      " 21.33820244 21.70903472 22.07981863 22.45055576 22.82124761 23.19189561\n",
      " 23.56250112 23.93306546 24.30358985 24.67407548 25.0445235  25.41493497\n",
      " 25.78531095 26.15565242 26.52596034 26.89623561 27.26647912 27.63669171\n",
      " 28.00687418 28.37702731 28.74715185 29.11724851 29.48731799 29.85736096\n",
      " 30.22737805 30.59736988 30.96733705 31.33728013 31.70719969 32.07709625\n",
      " 32.44697034 32.81682245 33.18665306 33.55646266 33.92625168 34.29602057\n",
      " 34.66576975 35.03549964 35.40521063 35.7749031  36.14457743 36.51423399\n",
      " 36.88387312 37.25349517 37.62310047]\n"
     ]
    }
   ],
   "source": [
    "import numpy as np\n",
    "\n",
    "x = np.arange(start=1, stop=100)\n",
    "\n",
    "\n",
    "def running_arithmetic_mean(X):\n",
    "    mu = np.zeros(len(X))\n",
    "    mu[0] = X[0]\n",
    "\n",
    "    for t in range(1, len(X)):\n",
    "        mu[t] = (t * mu[t-1] + X[t]) / (t + 1)\n",
    "\n",
    "    return mu\n",
    "\n",
    "def running_geometric_mean(X):\n",
    "    mu = np.zeros(len(X))\n",
    "    mu[0] = X[0]\n",
    "\n",
    "    for t in range(1, len(X)):\n",
    "        mu[t] = (X[t] * mu[t-1] ** t) ** (1 / (t + 1))\n",
    "\n",
    "    return mu\n",
    "\n",
    "print(running_arithmetic_mean(x))\n",
    "print(running_geometric_mean(x))"
   ]
  }
 ],
 "metadata": {
  "kernelspec": {
   "display_name": "Python 3",
   "language": "python",
   "name": "python3"
  },
  "language_info": {
   "codemirror_mode": {
    "name": "ipython",
    "version": 3
   },
   "file_extension": ".py",
   "mimetype": "text/x-python",
   "name": "python",
   "nbconvert_exporter": "python",
   "pygments_lexer": "ipython3",
   "version": "3.11.9"
  }
 },
 "nbformat": 4,
 "nbformat_minor": 2
}
