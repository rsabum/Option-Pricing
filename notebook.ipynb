{
 "cells": [
  {
   "cell_type": "markdown",
   "metadata": {},
   "source": [
    "# Theoretical Option Pricing"
   ]
  },
  {
   "cell_type": "markdown",
   "metadata": {},
   "source": [
    "# 1. Introduction"
   ]
  },
  {
   "cell_type": "markdown",
   "metadata": {},
   "source": []
  },
  {
   "cell_type": "markdown",
   "metadata": {},
   "source": [
    "# 2. Model"
   ]
  },
  {
   "cell_type": "markdown",
   "metadata": {},
   "source": [
    "In this project we assume the S&P 500 follows the Heston model which is a Stochastic Volatility model defined by the following stochastic differential equations:\n",
    "\n",
    "$$ \n",
    "\\begin{align}\n",
    "dS_t &= \\mu S_t ~ dt + \\sqrt{V_t} S_t ~ dW_{S,t}\n",
    "\\\\\n",
    "dV_t &= \\kappa (\\theta - V_t) ~ dt + \\sigma \\sqrt{V_t} ~ dW_{V,t}\n",
    "\\end{align}\n",
    "$$ \n",
    "\n",
    "where:\n",
    "- $S_t$ represents the stock price at time $t$,\n",
    "- $V_t$ denotes the stochastic volatility process,\n",
    "- $\\mu$ is the drift rate,\n",
    "- $\\kappa$ is the mean-reversion rate of volatility,\n",
    "- $\\theta$ is the long-term average volatility,\n",
    "- $\\sigma$ is the volatility of volatility,\n",
    "- $dW_{S,t}$ and $dW_{V,t}$ are Wiener processes for the stock price and volatility, respectively,\n"
   ]
  },
  {
   "cell_type": "markdown",
   "metadata": {},
   "source": [
    "# 3. Experiments"
   ]
  },
  {
   "cell_type": "markdown",
   "metadata": {},
   "source": []
  },
  {
   "cell_type": "markdown",
   "metadata": {},
   "source": [
    "## Vanilla Option\n",
    "\n",
    "Given a strike price $K$ let our option's pay off, $C(S, t)$, after exercising at time $t$ is $\\max\\{S - K, 0\\}$. Further more since this is an American call option, we can exercise at any time $t \\ge 0$. Therefore at each time step we have the choice of exercising and recieving a payoff of $\\max\\{0, S - K\\}$ or not exercising. If we dont exercise, our underlying stock and variance processes move to new values $S_{t + dt}$ and $V_{t + dt}$ and we have a new decision to make of whether or not we should exercise. This recursive relationship can be modeled as follows:\n",
    "\n",
    "$$\n",
    "\\begin{align}\n",
    "V_0(S_t) &= \\max\\{S_t - K, 0\\} \\\\\n",
    "V_{t > 0}(S_t) &= \\max\\left\\{ \\max\\{S_t - K, 0\\}, \\mathbb{E}\\bigg[V_{t - dt}(S_{t + dt})\\bigg]\\right\\}\n",
    "\\end{align}\n",
    "$$\n",
    "\n",
    "and in the case of a put option:\n",
    "\n",
    "$$\n",
    "\\begin{align}\n",
    "V_0(S_t) &= \\max\\{K - S_t, 0\\} \\\\\n",
    "V_{t > 0}(S_t) &= \\max\\left\\{ \\max\\{K - S_t, 0\\}, \\mathbb{E}\\bigg[V_{t - dt}(S_{t + dt})\\bigg]\\right\\}\n",
    "\\end{align}\n",
    "$$\n"
   ]
  }
 ],
 "metadata": {
  "kernelspec": {
   "display_name": "Python 3",
   "language": "python",
   "name": "python3"
  },
  "language_info": {
   "codemirror_mode": {
    "name": "ipython",
    "version": 3
   },
   "file_extension": ".py",
   "mimetype": "text/x-python",
   "name": "python",
   "nbconvert_exporter": "python",
   "pygments_lexer": "ipython3",
   "version": "3.11.9"
  }
 },
 "nbformat": 4,
 "nbformat_minor": 2
}
